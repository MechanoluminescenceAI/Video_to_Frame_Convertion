{
 "cells": [
  {
   "cell_type": "code",
   "execution_count": 7,
   "metadata": {
    "collapsed": true,
    "pycharm": {
     "name": "#%%\n"
    }
   },
   "outputs": [],
   "source": []
  },
  {
   "cell_type": "code",
   "execution_count": 8,
   "outputs": [
    {
     "name": "stdout",
     "output_type": "stream",
     "text": [
      "Number of frames:  1019\n",
      "Number of fps:  59.94005994005994 \n",
      "Number of round fps:  60\n",
      "Converting video..\n",
      "\n",
      "Done extracting frames.\n",
      "1019 frames extracted\n",
      "It took 8 seconds forconversion.\n",
      "done\n"
     ]
    }
   ],
   "source": [
    "import cv2\n",
    "import time\n",
    "import os\n",
    "\n",
    "def video_to_frames(input_loc, output_loc, framegap):\n",
    "    try:\n",
    "        os.mkdir(output_loc)\n",
    "    except OSError:\n",
    "        pass\n",
    "\n",
    "    time_start = time.time()\n",
    "    cap = cv2.VideoCapture(input_loc)\n",
    "    video_length = int(cap.get(cv2.CAP_PROP_FRAME_COUNT)) - 1\n",
    "    print (\"Number of frames: \", video_length)\n",
    "    count = 0\n",
    "\n",
    "    fps = cap.get(cv2.CAP_PROP_FPS)\n",
    "    round_fps = round(fps)\n",
    "    print (\"Number of fps: \", fps ,\"\\nNumber of round fps: \", round_fps)\n",
    "    print (\"Converting video..\\n\")\n",
    "\n",
    "\n",
    "    while cap.isOpened():\n",
    "        ret, frame = cap.read()\n",
    "        if not ret:\n",
    "            continue\n",
    "\n",
    "        if count % framegap == 0 or count == 0:\n",
    "            cv2.imwrite(output_loc + \"/frame_%#03d.png\" % (count+1), frame)\n",
    "\n",
    "        count = count + 1\n",
    "\n",
    "        if (count > (video_length-1)):\n",
    "            time_end = time.time()\n",
    "            cap.release()\n",
    "            print (\"Done extracting frames.\\n%d frames extracted\" % count)\n",
    "            print (\"It took %d seconds forconversion.\" % (time_end-time_start))\n",
    "            break\n",
    "\n",
    "video_to_frames('D:\\ML_sheet\\strain_led_on\\ML_video/New_folder\\C0142.MP4', 'D:\\ML_sheet\\strain_led_on\\ML_video/New_folder',60)\n",
    "\n",
    "print(\"done\")"
   ],
   "metadata": {
    "collapsed": false,
    "pycharm": {
     "name": "#%%\n"
    }
   }
  }
 ],
 "metadata": {
  "kernelspec": {
   "display_name": "Python 3",
   "language": "python",
   "name": "python3"
  },
  "language_info": {
   "codemirror_mode": {
    "name": "ipython",
    "version": 2
   },
   "file_extension": ".py",
   "mimetype": "text/x-python",
   "name": "python",
   "nbconvert_exporter": "python",
   "pygments_lexer": "ipython2",
   "version": "2.7.6"
  }
 },
 "nbformat": 4,
 "nbformat_minor": 0
}